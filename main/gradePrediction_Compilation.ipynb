{
 "cells": [
  {
   "cell_type": "markdown",
   "metadata": {},
   "source": [
    "## 使用整个数据集预测成绩\n",
    "形式语言与编译"
   ]
  },
  {
   "cell_type": "code",
   "execution_count": 3,
   "metadata": {},
   "outputs": [],
   "source": [
    "import pandas as pd\n",
    "from sklearn.linear_model import LinearRegression\n",
    "from sklearn.linear_model import ElasticNet\n",
    "from sklearn.ensemble import RandomForestRegressor\n",
    "from sklearn.ensemble import ExtraTreesRegressor\n",
    "from sklearn.ensemble import GradientBoostingRegressor\n",
    "from sklearn.svm import SVR\n",
    "\n",
    "from sklearn.model_selection import train_test_split\n",
    "from sklearn.preprocessing import MinMaxScaler\n",
    "\n",
    "from sklearn.metrics import median_absolute_error, mean_squared_error, r2_score, median_absolute_error\n",
    "\n",
    "import scipy\n",
    "\n",
    "data = pd.read_csv('cs15_22.csv')\n",
    "\n",
    "#划分训练-测试集，测试集比例为0.25\n",
    "X_train, X_test, y_train, y_test = train_test_split(data, data['形式语言与编译'], test_size = 0.25, random_state=42)"
   ]
  },
  {
   "cell_type": "code",
   "execution_count": 4,
   "metadata": {},
   "outputs": [],
   "source": [
    "import numpy as np\n",
    "# Calculate mae and rmse\n",
    "def evaluate_predictions(predictions, true):\n",
    "    mae = np.mean(abs(predictions - true))\n",
    "    rmse = np.sqrt(np.mean((predictions - true) ** 2))\n",
    "\n",
    "    return mae, rmse"
   ]
  },
  {
   "cell_type": "code",
   "execution_count": 5,
   "metadata": {},
   "outputs": [],
   "source": [
    "median_pred = X_train['形式语言与编译'].median()\n",
    "\n",
    "median_preds = [median_pred for _ in range(len(X_test))]\n",
    "\n",
    "true = X_test['形式语言与编译']"
   ]
  },
  {
   "cell_type": "code",
   "execution_count": 6,
   "metadata": {},
   "outputs": [
    {
     "name": "stdout",
     "output_type": "stream",
     "text": [
      "Median Baseline  MAE: 29.4298\n",
      "Median Baseline RMSE: 39.8371\n"
     ]
    }
   ],
   "source": [
    "# Display the naive baseline metrics\n",
    "mb_mae, mb_rmse = evaluate_predictions(median_preds, true)\n",
    "print('Median Baseline  MAE: {:.4f}'.format(mb_mae))\n",
    "print('Median Baseline RMSE: {:.4f}'.format(mb_rmse))"
   ]
  },
  {
   "cell_type": "code",
   "execution_count": 7,
   "metadata": {},
   "outputs": [],
   "source": [
    "def calculate_rmsea(y_test, predictions):\n",
    "    # Calculate the root mean square error of approximation (RMSEA)\n",
    "    residuals = predictions - y_test\n",
    "    chi_squared = np.sum(residuals ** 2)  # Chi-squared statistic\n",
    "    degrees_of_freedom = len(y_test)  # Degrees of freedom\n",
    "    n = len(y_test)  # Number of data points\n",
    "    rmsea = np.sqrt(chi_squared / (degrees_of_freedom * (n - 1)))\n",
    "    return rmsea\n",
    "\n",
    "def evaluate(X_train, X_test, y_train, y_test):\n",
    "    # Names of models\n",
    "    model_name_list = ['Linear Regression', 'ElasticNet Regression',\n",
    "                      'Random Forest', 'Extra Trees', 'SVM',\n",
    "                       'Gradient Boosted', 'Baseline']\n",
    "    X_train = X_train.drop('形式语言与编译', axis='columns')\n",
    "    X_test = X_test.drop('形式语言与编译', axis='columns')\n",
    "    \n",
    "    # Instantiate the models\n",
    "    model1 = LinearRegression()\n",
    "    model2 = ElasticNet(alpha=1.0, l1_ratio=0.5)\n",
    "    model3 = RandomForestRegressor(n_estimators=100)\n",
    "    model4 = ExtraTreesRegressor(n_estimators=100)\n",
    "    model5 = SVR(kernel='rbf', degree=3, C=1.0, gamma='auto')\n",
    "    model6 = GradientBoostingRegressor(n_estimators=50)\n",
    "    \n",
    "    # Dataframe for results\n",
    "    results = pd.DataFrame(columns=['mae', 'rmse', 'r2', 'rmsea'], index=model_name_list)\n",
    "\n",
    "    # Train and predict with each model\n",
    "    for i, model in enumerate([model1, model2, model3, model4, model5, model6]):\n",
    "        model.fit(X_train, y_train)\n",
    "        predictions = model.predict(X_test)\n",
    "        \n",
    "        # Metrics\n",
    "        mae = median_absolute_error(y_test, predictions)\n",
    "        rmse = np.sqrt(mean_squared_error(y_test, predictions))\n",
    "        r2 = r2_score(y_test, predictions)\n",
    "        rmsea = calculate_rmsea(y_test, predictions)\n",
    "        # Insert results into the dataframe\n",
    "        model_name = model_name_list[i]\n",
    "        results.loc[model_name, :] = [mae, rmse, r2, rmsea]\n",
    "    \n",
    "    # Median Value Baseline Metrics\n",
    "    baseline = np.median(y_train)\n",
    "    baseline_mae = np.mean(abs(baseline - y_test))\n",
    "    baseline_rmse = np.sqrt(np.mean((baseline - y_test) ** 2))\n",
    "    baseline_residuals = y_test - baseline\n",
    "    baseline_sse = np.sum(baseline_residuals ** 2)\n",
    "    y_mean = np.mean(y_test)\n",
    "    y_diff = y_test - y_mean\n",
    "    sst = np.sum(y_diff ** 2)\n",
    "    baseline_r2 = 1 - (baseline_sse / sst)\n",
    "    baseline_rmsea = calculate_rmsea(y_test, baseline)\n",
    "    results.loc['Baseline', :] = [baseline_mae, baseline_rmse, baseline_r2, baseline_rmsea]\n",
    "    \n",
    "    return results"
   ]
  },
  {
   "cell_type": "code",
   "execution_count": 8,
   "metadata": {},
   "outputs": [
    {
     "name": "stdout",
     "output_type": "stream",
     "text": [
      "                             mae       rmse        r2     rmsea\n",
      "Linear Regression       4.282028  14.925026   0.82932  0.792138\n",
      "ElasticNet Regression   4.224681  14.882781  0.830285  0.789896\n",
      "Random Forest              3.115  15.716339  0.810741  0.834137\n",
      "Extra Trees                3.325  13.771957  0.854674   0.73094\n",
      "SVM                    15.573684  40.001706 -0.226055   2.12307\n",
      "Gradient Boosted        2.980118  15.294529  0.820764  0.811749\n",
      "Baseline               29.429775  39.837063 -0.215983  2.114332\n"
     ]
    }
   ],
   "source": [
    "results = evaluate(X_train, X_test, y_train, y_test)\n",
    "print(results)"
   ]
  }
 ],
 "metadata": {
  "kernelspec": {
   "display_name": "Python 3",
   "language": "python",
   "name": "python3"
  },
  "language_info": {
   "codemirror_mode": {
    "name": "ipython",
    "version": 3
   },
   "file_extension": ".py",
   "mimetype": "text/x-python",
   "name": "python",
   "nbconvert_exporter": "python",
   "pygments_lexer": "ipython3",
   "version": "3.8.0"
  }
 },
 "nbformat": 4,
 "nbformat_minor": 2
}

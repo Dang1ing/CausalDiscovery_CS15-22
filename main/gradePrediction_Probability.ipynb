{
 "cells": [
  {
   "cell_type": "markdown",
   "metadata": {},
   "source": [
    "## 使用整个数据集预测成绩\n",
    "概率统计与随机过程"
   ]
  },
  {
   "cell_type": "code",
   "execution_count": 15,
   "metadata": {},
   "outputs": [],
   "source": [
    "import pandas as pd\n",
    "from sklearn.linear_model import LinearRegression\n",
    "from sklearn.linear_model import ElasticNet\n",
    "from sklearn.ensemble import RandomForestRegressor\n",
    "from sklearn.ensemble import ExtraTreesRegressor\n",
    "from sklearn.ensemble import GradientBoostingRegressor\n",
    "from sklearn.svm import SVR\n",
    "\n",
    "from sklearn.model_selection import train_test_split\n",
    "from sklearn.preprocessing import MinMaxScaler\n",
    "\n",
    "from sklearn.metrics import median_absolute_error, mean_squared_error, r2_score, median_absolute_error\n",
    "\n",
    "import scipy\n",
    "\n",
    "data = pd.read_csv('cs15_22.csv')\n",
    "\n",
    "#划分训练-测试集，测试集比例为0.25\n",
    "X_train, X_test, y_train, y_test = train_test_split(data, data['概率统计与随机过程'], test_size = 0.25, random_state=42)"
   ]
  },
  {
   "cell_type": "code",
   "execution_count": 16,
   "metadata": {},
   "outputs": [],
   "source": [
    "import numpy as np\n",
    "# Calculate mae and rmse\n",
    "def evaluate_predictions(predictions, true):\n",
    "    mae = np.mean(abs(predictions - true))\n",
    "    rmse = np.sqrt(np.mean((predictions - true) ** 2))\n",
    "\n",
    "    return mae, rmse"
   ]
  },
  {
   "cell_type": "code",
   "execution_count": 17,
   "metadata": {},
   "outputs": [],
   "source": [
    "median_pred = X_train['概率统计与随机过程'].median()\n",
    "\n",
    "median_preds = [median_pred for _ in range(len(X_test))]\n",
    "\n",
    "true = X_test['概率统计与随机过程']"
   ]
  },
  {
   "cell_type": "code",
   "execution_count": 18,
   "metadata": {},
   "outputs": [
    {
     "name": "stdout",
     "output_type": "stream",
     "text": [
      "Median Baseline  MAE: 20.3258\n",
      "Median Baseline RMSE: 32.5037\n"
     ]
    }
   ],
   "source": [
    "# Display the naive baseline metrics\n",
    "mb_mae, mb_rmse = evaluate_predictions(median_preds, true)\n",
    "print('Median Baseline  MAE: {:.4f}'.format(mb_mae))\n",
    "print('Median Baseline RMSE: {:.4f}'.format(mb_rmse))"
   ]
  },
  {
   "cell_type": "code",
   "execution_count": 19,
   "metadata": {},
   "outputs": [],
   "source": [
    "def calculate_rmsea(y_test, predictions):\n",
    "    # Calculate the root mean square error of approximation (RMSEA)\n",
    "    residuals = predictions - y_test\n",
    "    chi_squared = np.sum(residuals ** 2)  # Chi-squared statistic\n",
    "    degrees_of_freedom = len(y_test)  # Degrees of freedom\n",
    "    n = len(y_test)  # Number of data points\n",
    "    rmsea = np.sqrt(chi_squared / (degrees_of_freedom * (n - 1)))\n",
    "    return rmsea\n",
    "\n",
    "def evaluate(X_train, X_test, y_train, y_test):\n",
    "    # Names of models\n",
    "    model_name_list = ['Linear Regression', 'ElasticNet Regression',\n",
    "                      'Random Forest', 'Extra Trees', 'SVM',\n",
    "                       'Gradient Boosted', 'Baseline']\n",
    "    X_train = X_train.drop('概率统计与随机过程', axis='columns')\n",
    "    X_test = X_test.drop('概率统计与随机过程', axis='columns')\n",
    "    \n",
    "    # Instantiate the models\n",
    "    model1 = LinearRegression()\n",
    "    model2 = ElasticNet(alpha=1.0, l1_ratio=0.5)\n",
    "    model3 = RandomForestRegressor(n_estimators=100)\n",
    "    model4 = ExtraTreesRegressor(n_estimators=100)\n",
    "    model5 = SVR(kernel='rbf', degree=3, C=1.0, gamma='auto')\n",
    "    model6 = GradientBoostingRegressor(n_estimators=50)\n",
    "    \n",
    "    # Dataframe for results\n",
    "    results = pd.DataFrame(columns=['mae', 'rmse', 'r2', 'rmsea'], index=model_name_list)\n",
    "\n",
    "    # Train and predict with each model\n",
    "    for i, model in enumerate([model1, model2, model3, model4, model5, model6]):\n",
    "        model.fit(X_train, y_train)\n",
    "        predictions = model.predict(X_test)\n",
    "        \n",
    "        # Metrics\n",
    "        mae = median_absolute_error(y_test, predictions)\n",
    "        rmse = np.sqrt(mean_squared_error(y_test, predictions))\n",
    "        r2 = r2_score(y_test, predictions)\n",
    "        rmsea = calculate_rmsea(y_test, predictions)\n",
    "        # Insert results into the dataframe\n",
    "        model_name = model_name_list[i]\n",
    "        results.loc[model_name, :] = [mae, rmse, r2, rmsea]\n",
    "    \n",
    "    # Median Value Baseline Metrics\n",
    "    baseline = np.median(y_train)\n",
    "    baseline_mae = np.mean(abs(baseline - y_test))\n",
    "    baseline_rmse = np.sqrt(np.mean((baseline - y_test) ** 2))\n",
    "    baseline_residuals = y_test - baseline\n",
    "    baseline_sse = np.sum(baseline_residuals ** 2)\n",
    "    y_mean = np.mean(y_test)\n",
    "    y_diff = y_test - y_mean\n",
    "    sst = np.sum(y_diff ** 2)\n",
    "    baseline_r2 = 1 - (baseline_sse / sst)\n",
    "    baseline_rmsea = calculate_rmsea(y_test, baseline)\n",
    "    results.loc['Baseline', :] = [baseline_mae, baseline_rmse, baseline_r2, baseline_rmsea]\n",
    "    \n",
    "    return results"
   ]
  },
  {
   "cell_type": "code",
   "execution_count": 20,
   "metadata": {},
   "outputs": [
    {
     "name": "stdout",
     "output_type": "stream",
     "text": [
      "                             mae       rmse        r2     rmsea\n",
      "Linear Regression       4.449837  10.785893  0.876986  0.572456\n",
      "ElasticNet Regression   4.368515   10.76372  0.877491  0.571279\n",
      "Random Forest               3.66   9.168348  0.911116  0.486605\n",
      "Extra Trees                 3.64   8.830014  0.917555  0.468648\n",
      "SVM                    10.628571  32.438434 -0.112658  1.721653\n",
      "Gradient Boosted        3.824501   9.452611  0.905519  0.501692\n",
      "Baseline               20.325843  32.503716 -0.117141  1.725118\n"
     ]
    }
   ],
   "source": [
    "results = evaluate(X_train, X_test, y_train, y_test)\n",
    "print(results)"
   ]
  },
  {
   "cell_type": "markdown",
   "metadata": {},
   "source": [
    "## 只使用父节点课程预测成绩\n",
    "概率统计与随机过程\n",
    "### 父节点课程\n",
    "* 线性代数与解析几何\n",
    "* 电路\n",
    "* 大学物理Ⅱ-2\n",
    "* 大学物理实验Ⅰ-2\n",
    "* 离散数学a\n",
    "* 算法分析与设计\n",
    "* 数字逻辑电路"
   ]
  },
  {
   "cell_type": "code",
   "execution_count": 21,
   "metadata": {},
   "outputs": [],
   "source": [
    "import pandas as pd\n",
    "from sklearn.linear_model import LinearRegression\n",
    "from sklearn.linear_model import ElasticNet\n",
    "from sklearn.ensemble import RandomForestRegressor\n",
    "from sklearn.ensemble import ExtraTreesRegressor\n",
    "from sklearn.ensemble import GradientBoostingRegressor\n",
    "from sklearn.svm import SVR\n",
    "\n",
    "from sklearn.model_selection import train_test_split\n",
    "from sklearn.preprocessing import MinMaxScaler\n",
    "\n",
    "from sklearn.metrics import median_absolute_error, mean_squared_error, r2_score, median_absolute_error\n",
    "\n",
    "import scipy\n",
    "\n",
    "data = pd.read_csv('cs15_22_parentsOnly_Probability.csv')\n",
    "\n",
    "#划分训练-测试集，测试集比例为0.25\n",
    "X_train, X_test, y_train, y_test = train_test_split(data, data['概率统计与随机过程'], test_size = 0.25, random_state=42)"
   ]
  },
  {
   "cell_type": "markdown",
   "metadata": {},
   "source": []
  },
  {
   "cell_type": "code",
   "execution_count": 22,
   "metadata": {},
   "outputs": [
    {
     "data": {
      "text/html": [
       "<div>\n",
       "<style scoped>\n",
       "    .dataframe tbody tr th:only-of-type {\n",
       "        vertical-align: middle;\n",
       "    }\n",
       "\n",
       "    .dataframe tbody tr th {\n",
       "        vertical-align: top;\n",
       "    }\n",
       "\n",
       "    .dataframe thead th {\n",
       "        text-align: right;\n",
       "    }\n",
       "</style>\n",
       "<table border=\"1\" class=\"dataframe\">\n",
       "  <thead>\n",
       "    <tr style=\"text-align: right;\">\n",
       "      <th></th>\n",
       "      <th>大学物理II-2</th>\n",
       "      <th>大学物理实验I-1</th>\n",
       "      <th>操作系统设计专题实验</th>\n",
       "      <th>数字逻辑电路</th>\n",
       "      <th>概率统计与随机过程</th>\n",
       "      <th>电路</th>\n",
       "      <th>离散数学a</th>\n",
       "      <th>线性代数与解析几何</th>\n",
       "    </tr>\n",
       "  </thead>\n",
       "  <tbody>\n",
       "    <tr>\n",
       "      <th>974</th>\n",
       "      <td>84</td>\n",
       "      <td>83</td>\n",
       "      <td>0</td>\n",
       "      <td>68</td>\n",
       "      <td>61</td>\n",
       "      <td>70</td>\n",
       "      <td>81.0</td>\n",
       "      <td>81</td>\n",
       "    </tr>\n",
       "    <tr>\n",
       "      <th>620</th>\n",
       "      <td>88</td>\n",
       "      <td>87</td>\n",
       "      <td>87</td>\n",
       "      <td>90</td>\n",
       "      <td>86</td>\n",
       "      <td>82</td>\n",
       "      <td>89.0</td>\n",
       "      <td>0</td>\n",
       "    </tr>\n",
       "    <tr>\n",
       "      <th>777</th>\n",
       "      <td>87</td>\n",
       "      <td>87</td>\n",
       "      <td>92</td>\n",
       "      <td>84</td>\n",
       "      <td>72</td>\n",
       "      <td>78</td>\n",
       "      <td>82.0</td>\n",
       "      <td>91</td>\n",
       "    </tr>\n",
       "    <tr>\n",
       "      <th>427</th>\n",
       "      <td>92</td>\n",
       "      <td>83</td>\n",
       "      <td>98</td>\n",
       "      <td>83</td>\n",
       "      <td>73</td>\n",
       "      <td>88</td>\n",
       "      <td>93.0</td>\n",
       "      <td>81</td>\n",
       "    </tr>\n",
       "    <tr>\n",
       "      <th>199</th>\n",
       "      <td>91</td>\n",
       "      <td>98</td>\n",
       "      <td>98</td>\n",
       "      <td>78</td>\n",
       "      <td>83</td>\n",
       "      <td>93</td>\n",
       "      <td>96.0</td>\n",
       "      <td>86</td>\n",
       "    </tr>\n",
       "  </tbody>\n",
       "</table>\n",
       "</div>"
      ],
      "text/plain": [
       "     大学物理II-2  大学物理实验I-1  操作系统设计专题实验  数字逻辑电路  概率统计与随机过程  电路  离散数学a  线性代数与解析几何\n",
       "974        84         83           0      68         61  70   81.0         81\n",
       "620        88         87          87      90         86  82   89.0          0\n",
       "777        87         87          92      84         72  78   82.0         91\n",
       "427        92         83          98      83         73  88   93.0         81\n",
       "199        91         98          98      78         83  93   96.0         86"
      ]
     },
     "execution_count": 22,
     "metadata": {},
     "output_type": "execute_result"
    }
   ],
   "source": [
    "X_train.head()"
   ]
  },
  {
   "cell_type": "code",
   "execution_count": 23,
   "metadata": {},
   "outputs": [],
   "source": [
    "import numpy as np\n",
    "# Calculate mae and rmse\n",
    "def evaluate_predictions(predictions, true):\n",
    "    mae = np.mean(abs(predictions - true))\n",
    "    rmse = np.sqrt(np.mean((predictions - true) ** 2))\n",
    "\n",
    "    return mae, rmse"
   ]
  },
  {
   "cell_type": "code",
   "execution_count": 24,
   "metadata": {},
   "outputs": [],
   "source": [
    "median_pred = X_train['概率统计与随机过程'].median()\n",
    "\n",
    "median_preds = [median_pred for _ in range(len(X_test))]\n",
    "\n",
    "true = X_test['概率统计与随机过程']"
   ]
  },
  {
   "cell_type": "code",
   "execution_count": 25,
   "metadata": {},
   "outputs": [
    {
     "name": "stdout",
     "output_type": "stream",
     "text": [
      "Median Baseline  MAE: 20.9635\n",
      "Median Baseline RMSE: 33.1548\n"
     ]
    }
   ],
   "source": [
    "# Display the naive baseline metrics\n",
    "mb_mae, mb_rmse = evaluate_predictions(median_preds, true)\n",
    "print('Median Baseline  MAE: {:.4f}'.format(mb_mae))\n",
    "print('Median Baseline RMSE: {:.4f}'.format(mb_rmse))"
   ]
  },
  {
   "cell_type": "code",
   "execution_count": 26,
   "metadata": {},
   "outputs": [],
   "source": [
    "def calculate_rmsea(y_test, predictions):\n",
    "    # Calculate the root mean square error of approximation (RMSEA)\n",
    "    residuals = predictions - y_test\n",
    "    chi_squared = np.sum(residuals ** 2)  # Chi-squared statistic\n",
    "    degrees_of_freedom = len(y_test)  # Degrees of freedom\n",
    "    n = len(y_test)  # Number of data points\n",
    "    rmsea = np.sqrt(chi_squared / (degrees_of_freedom * (n - 1)))\n",
    "    return rmsea\n",
    "\n",
    "def evaluate(X_train, X_test, y_train, y_test):\n",
    "    # Names of models\n",
    "    model_name_list = ['Linear Regression', 'ElasticNet Regression',\n",
    "                      'Random Forest', 'Extra Trees', 'SVM',\n",
    "                       'Gradient Boosted', 'Baseline']\n",
    "    X_train = X_train.drop('概率统计与随机过程', axis='columns')\n",
    "    X_test = X_test.drop('概率统计与随机过程', axis='columns')\n",
    "    \n",
    "    # Instantiate the models\n",
    "    model1 = LinearRegression()\n",
    "    model2 = ElasticNet(alpha=1.0, l1_ratio=0.5)\n",
    "    model3 = RandomForestRegressor(n_estimators=100)\n",
    "    model4 = ExtraTreesRegressor(n_estimators=100)\n",
    "    model5 = SVR(kernel='rbf', degree=3, C=1.0, gamma='auto')\n",
    "    model6 = GradientBoostingRegressor(n_estimators=50)\n",
    "    \n",
    "    # Dataframe for results\n",
    "    results = pd.DataFrame(columns=['mae', 'rmse', 'r2', 'rmsea'], index=model_name_list)\n",
    "\n",
    "    # Train and predict with each model\n",
    "    for i, model in enumerate([model1, model2, model3, model4, model5, model6]):\n",
    "        model.fit(X_train, y_train)\n",
    "        predictions = model.predict(X_test)\n",
    "        \n",
    "        # Metrics\n",
    "        mae = median_absolute_error(y_test, predictions)\n",
    "        rmse = np.sqrt(mean_squared_error(y_test, predictions))\n",
    "        r2 = r2_score(y_test, predictions)\n",
    "        rmsea = calculate_rmsea(y_test, predictions)\n",
    "        # Insert results into the dataframe\n",
    "        model_name = model_name_list[i]\n",
    "        results.loc[model_name, :] = [mae, rmse, r2, rmsea]\n",
    "    \n",
    "    # Median Value Baseline Metrics\n",
    "    baseline = np.median(y_train)\n",
    "    baseline_mae = np.mean(abs(baseline - y_test))\n",
    "    baseline_rmse = np.sqrt(np.mean((baseline - y_test) ** 2))\n",
    "    baseline_residuals = y_test - baseline\n",
    "    baseline_sse = np.sum(baseline_residuals ** 2)\n",
    "    y_mean = np.mean(y_test)\n",
    "    y_diff = y_test - y_mean\n",
    "    sst = np.sum(y_diff ** 2)\n",
    "    baseline_r2 = 1 - (baseline_sse / sst)\n",
    "    baseline_rmsea = calculate_rmsea(y_test, baseline)\n",
    "    results.loc['Baseline', :] = [baseline_mae, baseline_rmse, baseline_r2, baseline_rmsea]\n",
    "    \n",
    "    return results"
   ]
  },
  {
   "cell_type": "code",
   "execution_count": 27,
   "metadata": {},
   "outputs": [
    {
     "name": "stdout",
     "output_type": "stream",
     "text": [
      "                             mae       rmse        r2     rmsea\n",
      "Linear Regression       5.011523  11.712783  0.861423   0.62165\n",
      "ElasticNet Regression   5.017783  11.714901  0.861373  0.621762\n",
      "Random Forest              4.675  11.251693  0.872119  0.597178\n",
      "Extra Trees                 4.56  10.846138  0.881172  0.575653\n",
      "SVM                    11.167395  31.278561  0.011759  1.660094\n",
      "Gradient Boosted        4.564793  10.936817  0.879177  0.580466\n",
      "Baseline               20.963483   33.15477 -0.110354  1.759672\n"
     ]
    }
   ],
   "source": [
    "results = evaluate(X_train, X_test, y_train, y_test)\n",
    "print(results)"
   ]
  }
 ],
 "metadata": {
  "kernelspec": {
   "display_name": "Python 3",
   "language": "python",
   "name": "python3"
  },
  "language_info": {
   "codemirror_mode": {
    "name": "ipython",
    "version": 3
   },
   "file_extension": ".py",
   "mimetype": "text/x-python",
   "name": "python",
   "nbconvert_exporter": "python",
   "pygments_lexer": "ipython3",
   "version": "3.8.0"
  }
 },
 "nbformat": 4,
 "nbformat_minor": 2
}

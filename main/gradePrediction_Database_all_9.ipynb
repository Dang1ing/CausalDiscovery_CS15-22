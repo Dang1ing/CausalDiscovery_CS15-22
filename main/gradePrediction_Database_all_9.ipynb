{
 "cells": [
  {
   "cell_type": "markdown",
   "metadata": {},
   "source": [
    "## 使用整个数据集预测成绩\n",
    "数据库系统"
   ]
  },
  {
   "cell_type": "code",
   "execution_count": 1,
   "metadata": {},
   "outputs": [],
   "source": [
    "import pandas as pd\n",
    "from sklearn.linear_model import LinearRegression\n",
    "from sklearn.linear_model import ElasticNet\n",
    "from sklearn.ensemble import RandomForestRegressor\n",
    "from sklearn.ensemble import ExtraTreesRegressor\n",
    "from sklearn.ensemble import GradientBoostingRegressor\n",
    "from sklearn.svm import SVR\n",
    "\n",
    "from sklearn.model_selection import train_test_split\n",
    "from sklearn.preprocessing import MinMaxScaler\n",
    "\n",
    "from sklearn.metrics import median_absolute_error, mean_squared_error, r2_score, median_absolute_error\n",
    "\n",
    "import scipy\n",
    "\n",
    "data = pd.read_csv('cs15_22.csv')\n",
    "\n",
    "#划分训练-测试集，测试集比例为0.25\n",
    "X_train, X_test, y_train, y_test = train_test_split(data, data['数据库系统'], test_size = 0.25, random_state=42)"
   ]
  },
  {
   "cell_type": "code",
   "execution_count": 2,
   "metadata": {},
   "outputs": [],
   "source": [
    "import numpy as np\n",
    "# Calculate mae and rmse\n",
    "def evaluate_predictions(predictions, true):\n",
    "    mae = np.mean(abs(predictions - true))\n",
    "    rmse = np.sqrt(np.mean((predictions - true) ** 2))\n",
    "\n",
    "    return mae, rmse"
   ]
  },
  {
   "cell_type": "code",
   "execution_count": 3,
   "metadata": {},
   "outputs": [],
   "source": [
    "median_pred = X_train['数据库系统'].median()\n",
    "\n",
    "median_preds = [median_pred for _ in range(len(X_test))]\n",
    "\n",
    "true = X_test['数据库系统']"
   ]
  },
  {
   "cell_type": "code",
   "execution_count": 4,
   "metadata": {},
   "outputs": [
    {
     "name": "stdout",
     "output_type": "stream",
     "text": [
      "Median Baseline  MAE: 28.4242\n",
      "Median Baseline RMSE: 41.3130\n"
     ]
    }
   ],
   "source": [
    "# Display the naive baseline metrics\n",
    "mb_mae, mb_rmse = evaluate_predictions(median_preds, true)\n",
    "print('Median Baseline  MAE: {:.4f}'.format(mb_mae))\n",
    "print('Median Baseline RMSE: {:.4f}'.format(mb_rmse))"
   ]
  },
  {
   "cell_type": "code",
   "execution_count": 5,
   "metadata": {},
   "outputs": [],
   "source": [
    "def calculate_rmsea(y_test, predictions):\n",
    "    # Calculate the root mean square error of approximation (RMSEA)\n",
    "    residuals = predictions - y_test\n",
    "    chi_squared = np.sum(residuals ** 2)  # Chi-squared statistic\n",
    "    degrees_of_freedom = len(y_test)  # Degrees of freedom\n",
    "    n = len(y_test)  # Number of data points\n",
    "    rmsea = np.sqrt(chi_squared / (degrees_of_freedom * (n - 1)))\n",
    "    return rmsea\n",
    "\n",
    "def evaluate(X_train, X_test, y_train, y_test):\n",
    "    # Names of models\n",
    "    model_name_list = ['Linear Regression', 'ElasticNet Regression',\n",
    "                      'Random Forest', 'Extra Trees', 'SVM',\n",
    "                       'Gradient Boosted']\n",
    "    X_train = X_train.drop('数据库系统', axis='columns')\n",
    "    X_test = X_test.drop('数据库系统', axis='columns')\n",
    "    \n",
    "    # Instantiate the models\n",
    "    model1 = LinearRegression()\n",
    "    model2 = ElasticNet(alpha=1.0, l1_ratio=0.5)\n",
    "    model3 = RandomForestRegressor(n_estimators=100)\n",
    "    model4 = ExtraTreesRegressor(n_estimators=100)\n",
    "    model5 = SVR(kernel='rbf', degree=3, C=1.0, gamma='auto')\n",
    "    model6 = GradientBoostingRegressor(n_estimators=50)\n",
    "    \n",
    "    # # Dataframe for results\n",
    "    # results = pd.DataFrame(columns=['mae', 'rmse', 'r2', 'rmsea'], index=model_name_list)\n",
    "    results = pd.DataFrame(columns=['r2', 'rmsea'], index=model_name_list)\n",
    "\n",
    "    # Train and predict with each model\n",
    "    for i, model in enumerate([model1, model2, model3, model4, model5, model6]):\n",
    "        model.fit(X_train, y_train)\n",
    "        predictions = model.predict(X_test)\n",
    "        \n",
    "        # Metrics\n",
    "        # mae = median_absolute_error(y_test, predictions)\n",
    "        # rmse = np.sqrt(mean_squared_error(y_test, predictions))\n",
    "        r2 = r2_score(y_test, predictions)\n",
    "        rmsea = calculate_rmsea(y_test, predictions)\n",
    "        # Insert results into the dataframe\n",
    "        model_name = model_name_list[i]\n",
    "        # results.loc[model_name, :] = [mae, rmse, r2, rmsea]\n",
    "        results.loc[model_name, :] = [r2, rmsea]\n",
    "    \n",
    "    # Median Value Baseline Metrics\n",
    "    # baseline = np.median(y_train)\n",
    "    # # baseline_mae = np.mean(abs(baseline - y_test))\n",
    "    # # baseline_rmse = np.sqrt(np.mean((baseline - y_test) ** 2))\n",
    "    # baseline_residuals = y_test - baseline\n",
    "    # baseline_sse = np.sum(baseline_residuals ** 2)\n",
    "    # y_mean = np.mean(y_test)\n",
    "    # y_diff = y_test - y_mean\n",
    "    # sst = np.sum(y_diff ** 2)\n",
    "    # baseline_r2 = 1 - (baseline_sse / sst)\n",
    "    # baseline_rmsea = calculate_rmsea(y_test, baseline)\n",
    "    # # results.loc['Baseline', :] = [baseline_mae, baseline_rmse, baseline_r2, baseline_rmsea]\n",
    "    # results.loc['Baseline', :] = [baseline_r2, baseline_rmsea]\n",
    "    \n",
    "    return results"
   ]
  },
  {
   "cell_type": "code",
   "execution_count": 6,
   "metadata": {},
   "outputs": [
    {
     "name": "stdout",
     "output_type": "stream",
     "text": [
      "                             r2     rmsea\n",
      "Linear Regression      0.948677  0.441141\n",
      "ElasticNet Regression  0.949051  0.439531\n",
      "Random Forest          0.956229  0.407394\n",
      "Extra Trees             0.95506  0.412798\n",
      "SVM                   -0.255567  2.181933\n",
      "Gradient Boosted       0.956725   0.40508\n"
     ]
    }
   ],
   "source": [
    "results = evaluate(X_train, X_test, y_train, y_test)\n",
    "print(results)"
   ]
  },
  {
   "cell_type": "markdown",
   "metadata": {},
   "source": [
    "## 只使用父节点课程预测成绩\n",
    "数据库系统\n",
    "### 父节点课程\n",
    "* 操作系统原理i\n",
    "* 操作系统设计专题实验\n",
    "* 数据库系统\n",
    "* 编译器设计专题实验\n",
    "* 计算机系统综合设计实验\n",
    "* 计算机组成\n",
    "* 计算机组成与结构专题实验\n",
    "* 计算机网络专题实验\n",
    "* 计算机网络原理\n",
    "* 软件定义网络"
   ]
  },
  {
   "cell_type": "code",
   "execution_count": 7,
   "metadata": {},
   "outputs": [],
   "source": [
    "data = pd.read_csv('cs15_22_parentsOnly_Compilation_9.csv')\n",
    "\n",
    "#划分训练-测试集，测试集比例为0.25\n",
    "X_train, X_test, y_train, y_test = train_test_split(data, data['数据库系统'], test_size = 0.25, random_state=42)"
   ]
  },
  {
   "cell_type": "code",
   "execution_count": 8,
   "metadata": {},
   "outputs": [
    {
     "data": {
      "text/html": [
       "<div>\n",
       "<style scoped>\n",
       "    .dataframe tbody tr th:only-of-type {\n",
       "        vertical-align: middle;\n",
       "    }\n",
       "\n",
       "    .dataframe tbody tr th {\n",
       "        vertical-align: top;\n",
       "    }\n",
       "\n",
       "    .dataframe thead th {\n",
       "        text-align: right;\n",
       "    }\n",
       "</style>\n",
       "<table border=\"1\" class=\"dataframe\">\n",
       "  <thead>\n",
       "    <tr style=\"text-align: right;\">\n",
       "      <th></th>\n",
       "      <th>形式语言与编译</th>\n",
       "      <th>操作系统原理i</th>\n",
       "      <th>操作系统设计专题实验</th>\n",
       "      <th>数据库系统</th>\n",
       "      <th>编译器设计专题实验</th>\n",
       "      <th>计算机组成</th>\n",
       "      <th>计算机组成与结构专题实验</th>\n",
       "      <th>计算机网络专题实验</th>\n",
       "      <th>计算机网络原理</th>\n",
       "    </tr>\n",
       "  </thead>\n",
       "  <tbody>\n",
       "    <tr>\n",
       "      <th>974</th>\n",
       "      <td>0</td>\n",
       "      <td>0</td>\n",
       "      <td>30</td>\n",
       "      <td>0</td>\n",
       "      <td>0</td>\n",
       "      <td>1</td>\n",
       "      <td>7</td>\n",
       "      <td>30</td>\n",
       "      <td>32</td>\n",
       "    </tr>\n",
       "    <tr>\n",
       "      <th>620</th>\n",
       "      <td>60</td>\n",
       "      <td>76</td>\n",
       "      <td>64</td>\n",
       "      <td>67</td>\n",
       "      <td>71</td>\n",
       "      <td>60</td>\n",
       "      <td>63</td>\n",
       "      <td>79</td>\n",
       "      <td>76</td>\n",
       "    </tr>\n",
       "    <tr>\n",
       "      <th>777</th>\n",
       "      <td>54</td>\n",
       "      <td>74</td>\n",
       "      <td>73</td>\n",
       "      <td>0</td>\n",
       "      <td>80</td>\n",
       "      <td>62</td>\n",
       "      <td>35</td>\n",
       "      <td>30</td>\n",
       "      <td>69</td>\n",
       "    </tr>\n",
       "    <tr>\n",
       "      <th>427</th>\n",
       "      <td>73</td>\n",
       "      <td>78</td>\n",
       "      <td>92</td>\n",
       "      <td>80</td>\n",
       "      <td>85</td>\n",
       "      <td>70</td>\n",
       "      <td>95</td>\n",
       "      <td>98</td>\n",
       "      <td>82</td>\n",
       "    </tr>\n",
       "    <tr>\n",
       "      <th>199</th>\n",
       "      <td>0</td>\n",
       "      <td>91</td>\n",
       "      <td>98</td>\n",
       "      <td>0</td>\n",
       "      <td>91</td>\n",
       "      <td>78</td>\n",
       "      <td>93</td>\n",
       "      <td>92</td>\n",
       "      <td>87</td>\n",
       "    </tr>\n",
       "  </tbody>\n",
       "</table>\n",
       "</div>"
      ],
      "text/plain": [
       "     形式语言与编译  操作系统原理i  操作系统设计专题实验  数据库系统  编译器设计专题实验  计算机组成  计算机组成与结构专题实验  \\\n",
       "974        0        0          30      0          0      1             7   \n",
       "620       60       76          64     67         71     60            63   \n",
       "777       54       74          73      0         80     62            35   \n",
       "427       73       78          92     80         85     70            95   \n",
       "199        0       91          98      0         91     78            93   \n",
       "\n",
       "     计算机网络专题实验  计算机网络原理  \n",
       "974         30       32  \n",
       "620         79       76  \n",
       "777         30       69  \n",
       "427         98       82  \n",
       "199         92       87  "
      ]
     },
     "execution_count": 8,
     "metadata": {},
     "output_type": "execute_result"
    }
   ],
   "source": [
    "X_train.head()"
   ]
  },
  {
   "cell_type": "code",
   "execution_count": 9,
   "metadata": {},
   "outputs": [],
   "source": [
    "import numpy as np\n",
    "# Calculate mae and rmse\n",
    "def evaluate_predictions(predictions, true):\n",
    "    mae = np.mean(abs(predictions - true))\n",
    "    rmse = np.sqrt(np.mean((predictions - true) ** 2))\n",
    "\n",
    "    return mae, rmse"
   ]
  },
  {
   "cell_type": "code",
   "execution_count": 10,
   "metadata": {},
   "outputs": [],
   "source": [
    "median_pred = X_train['数据库系统'].median()\n",
    "\n",
    "median_preds = [median_pred for _ in range(len(X_test))]\n",
    "\n",
    "true = X_test['数据库系统']"
   ]
  },
  {
   "cell_type": "code",
   "execution_count": 11,
   "metadata": {},
   "outputs": [
    {
     "name": "stdout",
     "output_type": "stream",
     "text": [
      "Median Baseline  MAE: 28.3596\n",
      "Median Baseline RMSE: 41.5731\n"
     ]
    }
   ],
   "source": [
    "# Display the naive baseline metrics\n",
    "mb_mae, mb_rmse = evaluate_predictions(median_preds, true)\n",
    "print('Median Baseline  MAE: {:.4f}'.format(mb_mae))\n",
    "print('Median Baseline RMSE: {:.4f}'.format(mb_rmse))"
   ]
  },
  {
   "cell_type": "code",
   "execution_count": 12,
   "metadata": {},
   "outputs": [
    {
     "name": "stdout",
     "output_type": "stream",
     "text": [
      "                             r2     rmsea\n",
      "Linear Regression      0.919331  0.549913\n",
      "ElasticNet Regression  0.920031  0.547521\n",
      "Random Forest           0.91885  0.551549\n",
      "Extra Trees            0.918155  0.553907\n",
      "SVM                    0.870466  0.696837\n",
      "Gradient Boosted       0.913769  0.568555\n"
     ]
    }
   ],
   "source": [
    "results2 = evaluate(X_train, X_test, y_train, y_test)\n",
    "print(results2)"
   ]
  },
  {
   "cell_type": "code",
   "execution_count": 13,
   "metadata": {},
   "outputs": [
    {
     "data": {
      "image/png": "[encoded data removed]",
      "text/plain": [
       "<Figure size 1000x600 with 1 Axes>"
      ]
     },
     "metadata": {},
     "output_type": "display_data"
    }
   ],
   "source": [
    "import matplotlib.pyplot as plt\n",
    "import numpy as np\n",
    "plt.rc(\"font\", family='Microsoft YaHei')\n",
    "plt.rcParams['axes.unicode_minus'] = False  # 用来正常显示负号\n",
    "\n",
    "# 模型名称和性能指标\n",
    "# performance_metrics = [\"mae\", \"rmse\", \"r2\", \"rmsea\"]\n",
    "model_name_list = ['线性回归', '弹性网络回归',\n",
    "                      '随机森林', '极度随机树', 'SVM',\n",
    "                       '梯度提升树']\n",
    "performance_metrics = [\"R²\", \"RMSEA\"]\n",
    "\n",
    "# 设置图形大小\n",
    "plt.figure(figsize=(10, 6))\n",
    "\n",
    "# 设置可视化参数\n",
    "bar_width = 0.2\n",
    "index = np.arange(len(model_name_list))\n",
    "\n",
    "# 绘制R²的柱状图\n",
    "plt.bar(index - bar_width*1.5, results[\"r2\"], bar_width, label='R²_Entire', color='lightcoral')\n",
    "plt.bar(index - bar_width*0.5, results2[\"r2\"], bar_width, label='R²_ParentsOnly', color='skyblue', alpha=0.7)\n",
    "\n",
    "# 绘制RMSEA的柱状图\n",
    "plt.bar(index + bar_width*0.5+0.05, results[\"rmsea\"], bar_width, label='RMSEA_Entire', color='lightgreen')\n",
    "plt.bar(index + 1.5 * bar_width+0.05, results2[\"rmsea\"], bar_width, label='RMSEA_ParentsOnly', color='orange', alpha=0.7)\n",
    "\n",
    "# 设置x轴标签\n",
    "plt.xlabel('模型')\n",
    "plt.xticks(index, model_name_list, rotation=45)\n",
    "\n",
    "# 设置y轴标签\n",
    "plt.ylabel('分数')\n",
    "\n",
    "# 设置图例\n",
    "plt.legend(loc='best')\n",
    "\n",
    "# 设置标题\n",
    "plt.title(f\"数据库系统的课程成绩预测结果对比\")\n",
    "# 显示图形\n",
    "plt.show()\n"
   ]
  },
  {
   "cell_type": "code",
   "execution_count": 14,
   "metadata": {},
   "outputs": [],
   "source": [
    "# import pygal\n",
    "\n",
    "# # 创建雷达图对象\n",
    "# radar_chart = pygal.Radar()\n",
    "# performance_metrics = [\"R²\"]\n",
    "\n",
    "# # 添加数据\n",
    "# for metric in performance_metrics:\n",
    "#     radar_chart.add('Group 1', results_group1[:, performance_metrics.index(metric)])\n",
    "#     radar_chart.add('Group 2', results_group2[:, performance_metrics.index(metric)])\n",
    "\n",
    "# # 设置雷达图的标题和标签\n",
    "# radar_chart.title = 'Comparison of Two Experiment Groups'\n",
    "# radar_chart.x_labels = model_name_list\n",
    "\n",
    "# # 保存雷达图为文件或显示在屏幕上\n",
    "# radar_chart.render_to_file('radar_chart.svg')  # 保存为SVG文件"
   ]
  }
 ],
 "metadata": {
  "kernelspec": {
   "display_name": "Python 3",
   "language": "python",
   "name": "python3"
  },
  "language_info": {
   "codemirror_mode": {
    "name": "ipython",
    "version": 3
   },
   "file_extension": ".py",
   "mimetype": "text/x-python",
   "name": "python",
   "nbconvert_exporter": "python",
   "pygments_lexer": "ipython3",
   "version": "3.8.0"
  }
 },
 "nbformat": 4,
 "nbformat_minor": 2
}

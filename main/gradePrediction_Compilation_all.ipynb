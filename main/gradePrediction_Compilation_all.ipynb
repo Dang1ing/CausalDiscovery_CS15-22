{
 "cells": [
  {
   "cell_type": "markdown",
   "metadata": {},
   "source": [
    "## 使用整个数据集预测成绩\n",
    "形式语言与编译"
   ]
  },
  {
   "cell_type": "code",
   "execution_count": 2,
   "metadata": {},
   "outputs": [],
   "source": [
    "import pandas as pd\n",
    "from sklearn.linear_model import LinearRegression\n",
    "from sklearn.linear_model import ElasticNet\n",
    "from sklearn.ensemble import RandomForestRegressor\n",
    "from sklearn.ensemble import ExtraTreesRegressor\n",
    "from sklearn.ensemble import GradientBoostingRegressor\n",
    "from sklearn.svm import SVR\n",
    "\n",
    "from sklearn.model_selection import train_test_split\n",
    "from sklearn.preprocessing import MinMaxScaler\n",
    "\n",
    "from sklearn.metrics import median_absolute_error, mean_squared_error, r2_score, median_absolute_error\n",
    "\n",
    "import scipy\n",
    "\n",
    "data = pd.read_csv('cs15_22.csv')\n",
    "\n",
    "#划分训练-测试集，测试集比例为0.25\n",
    "X_train, X_test, y_train, y_test = train_test_split(data, data['形式语言与编译'], test_size = 0.25, random_state=42)"
   ]
  },
  {
   "cell_type": "code",
   "execution_count": 3,
   "metadata": {},
   "outputs": [],
   "source": [
    "import numpy as np\n",
    "# Calculate mae and rmse\n",
    "def evaluate_predictions(predictions, true):\n",
    "    mae = np.mean(abs(predictions - true))\n",
    "    rmse = np.sqrt(np.mean((predictions - true) ** 2))\n",
    "\n",
    "    return mae, rmse"
   ]
  },
  {
   "cell_type": "code",
   "execution_count": 4,
   "metadata": {},
   "outputs": [],
   "source": [
    "median_pred = X_train['形式语言与编译'].median()\n",
    "\n",
    "median_preds = [median_pred for _ in range(len(X_test))]\n",
    "\n",
    "true = X_test['形式语言与编译']"
   ]
  },
  {
   "cell_type": "code",
   "execution_count": 5,
   "metadata": {},
   "outputs": [
    {
     "name": "stdout",
     "output_type": "stream",
     "text": [
      "Median Baseline  MAE: 29.4298\n",
      "Median Baseline RMSE: 39.8371\n"
     ]
    }
   ],
   "source": [
    "# Display the naive baseline metrics\n",
    "mb_mae, mb_rmse = evaluate_predictions(median_preds, true)\n",
    "print('Median Baseline  MAE: {:.4f}'.format(mb_mae))\n",
    "print('Median Baseline RMSE: {:.4f}'.format(mb_rmse))"
   ]
  },
  {
   "cell_type": "code",
   "execution_count": 6,
   "metadata": {},
   "outputs": [],
   "source": [
    "def calculate_rmsea(y_test, predictions):\n",
    "    # Calculate the root mean square error of approximation (RMSEA)\n",
    "    residuals = predictions - y_test\n",
    "    chi_squared = np.sum(residuals ** 2)  # Chi-squared statistic\n",
    "    degrees_of_freedom = len(y_test)  # Degrees of freedom\n",
    "    n = len(y_test)  # Number of data points\n",
    "    rmsea = np.sqrt(chi_squared / (degrees_of_freedom * (n - 1)))\n",
    "    return rmsea\n",
    "\n",
    "def evaluate(X_train, X_test, y_train, y_test):\n",
    "    # Names of models\n",
    "    model_name_list = ['Linear Regression', 'ElasticNet Regression',\n",
    "                      'Random Forest', 'Extra Trees', 'SVM',\n",
    "                       'Gradient Boosted']\n",
    "    X_train = X_train.drop('形式语言与编译', axis='columns')\n",
    "    X_test = X_test.drop('形式语言与编译', axis='columns')\n",
    "    \n",
    "    # Instantiate the models\n",
    "    model1 = LinearRegression()\n",
    "    model2 = ElasticNet(alpha=1.0, l1_ratio=0.5)\n",
    "    model3 = RandomForestRegressor(n_estimators=100)\n",
    "    model4 = ExtraTreesRegressor(n_estimators=100)\n",
    "    model5 = SVR(kernel='rbf', degree=3, C=1.0, gamma='auto')\n",
    "    model6 = GradientBoostingRegressor(n_estimators=50)\n",
    "    \n",
    "    # # Dataframe for results\n",
    "    # results = pd.DataFrame(columns=['mae', 'rmse', 'r2', 'rmsea'], index=model_name_list)\n",
    "    results = pd.DataFrame(columns=['r2', 'rmsea'], index=model_name_list)\n",
    "\n",
    "    # Train and predict with each model\n",
    "    for i, model in enumerate([model1, model2, model3, model4, model5, model6]):\n",
    "        model.fit(X_train, y_train)\n",
    "        predictions = model.predict(X_test)\n",
    "        \n",
    "        # Metrics\n",
    "        # mae = median_absolute_error(y_test, predictions)\n",
    "        # rmse = np.sqrt(mean_squared_error(y_test, predictions))\n",
    "        r2 = r2_score(y_test, predictions)\n",
    "        rmsea = calculate_rmsea(y_test, predictions)\n",
    "        # Insert results into the dataframe\n",
    "        model_name = model_name_list[i]\n",
    "        # results.loc[model_name, :] = [mae, rmse, r2, rmsea]\n",
    "        results.loc[model_name, :] = [r2, rmsea]\n",
    "    \n",
    "    # Median Value Baseline Metrics\n",
    "    # baseline = np.median(y_train)\n",
    "    # # baseline_mae = np.mean(abs(baseline - y_test))\n",
    "    # # baseline_rmse = np.sqrt(np.mean((baseline - y_test) ** 2))\n",
    "    # baseline_residuals = y_test - baseline\n",
    "    # baseline_sse = np.sum(baseline_residuals ** 2)\n",
    "    # y_mean = np.mean(y_test)\n",
    "    # y_diff = y_test - y_mean\n",
    "    # sst = np.sum(y_diff ** 2)\n",
    "    # baseline_r2 = 1 - (baseline_sse / sst)\n",
    "    # baseline_rmsea = calculate_rmsea(y_test, baseline)\n",
    "    # # results.loc['Baseline', :] = [baseline_mae, baseline_rmse, baseline_r2, baseline_rmsea]\n",
    "    # results.loc['Baseline', :] = [baseline_r2, baseline_rmsea]\n",
    "    \n",
    "    return results"
   ]
  },
  {
   "cell_type": "code",
   "execution_count": 7,
   "metadata": {},
   "outputs": [
    {
     "name": "stdout",
     "output_type": "stream",
     "text": [
      "                             r2     rmsea\n",
      "Linear Regression       0.82932  0.792138\n",
      "ElasticNet Regression  0.830285  0.789896\n",
      "Random Forest          0.823205  0.806202\n",
      "Extra Trees            0.858872  0.720304\n",
      "SVM                   -0.226055   2.12307\n",
      "Gradient Boosted       0.820074  0.813309\n"
     ]
    }
   ],
   "source": [
    "results = evaluate(X_train, X_test, y_train, y_test)\n",
    "print(results)"
   ]
  },
  {
   "cell_type": "markdown",
   "metadata": {},
   "source": [
    "## 只使用父节点课程预测成绩\n",
    "形式语言与编译\n",
    "### 父节点课程\n",
    "* 操作系统原理i\n",
    "* 操作系统设计专题实验\n",
    "* 数据库系统\n",
    "* 编译器设计专题实验\n",
    "* 计算机系统综合设计实验\n",
    "* 计算机组成\n",
    "* 计算机组成与结构专题实验\n",
    "* 计算机网络专题实验\n",
    "* 计算机网络原理\n",
    "* 软件定义网络"
   ]
  },
  {
   "cell_type": "code",
   "execution_count": 8,
   "metadata": {},
   "outputs": [],
   "source": [
    "data = pd.read_csv('cs15_22_parentsOnly_Compilation.csv')\n",
    "\n",
    "#划分训练-测试集，测试集比例为0.25\n",
    "X_train, X_test, y_train, y_test = train_test_split(data, data['形式语言与编译'], test_size = 0.25, random_state=42)"
   ]
  },
  {
   "cell_type": "code",
   "execution_count": 9,
   "metadata": {},
   "outputs": [
    {
     "data": {
      "text/html": [
       "<div>\n",
       "<style scoped>\n",
       "    .dataframe tbody tr th:only-of-type {\n",
       "        vertical-align: middle;\n",
       "    }\n",
       "\n",
       "    .dataframe tbody tr th {\n",
       "        vertical-align: top;\n",
       "    }\n",
       "\n",
       "    .dataframe thead th {\n",
       "        text-align: right;\n",
       "    }\n",
       "</style>\n",
       "<table border=\"1\" class=\"dataframe\">\n",
       "  <thead>\n",
       "    <tr style=\"text-align: right;\">\n",
       "      <th></th>\n",
       "      <th>形式语言与编译</th>\n",
       "      <th>操作系统原理i</th>\n",
       "      <th>操作系统设计专题实验</th>\n",
       "      <th>数据库系统</th>\n",
       "      <th>编译器设计专题实验</th>\n",
       "      <th>计算机系统综合设计实验</th>\n",
       "      <th>计算机组成</th>\n",
       "      <th>计算机组成与结构专题实验</th>\n",
       "      <th>计算机网络专题实验</th>\n",
       "      <th>计算机网络原理</th>\n",
       "      <th>软件定义网络</th>\n",
       "    </tr>\n",
       "  </thead>\n",
       "  <tbody>\n",
       "    <tr>\n",
       "      <th>974</th>\n",
       "      <td>66</td>\n",
       "      <td>79</td>\n",
       "      <td>92</td>\n",
       "      <td>68</td>\n",
       "      <td>85</td>\n",
       "      <td>88</td>\n",
       "      <td>79</td>\n",
       "      <td>79</td>\n",
       "      <td>76</td>\n",
       "      <td>82</td>\n",
       "      <td>89</td>\n",
       "    </tr>\n",
       "    <tr>\n",
       "      <th>620</th>\n",
       "      <td>0</td>\n",
       "      <td>0</td>\n",
       "      <td>0</td>\n",
       "      <td>0</td>\n",
       "      <td>0</td>\n",
       "      <td>0</td>\n",
       "      <td>0</td>\n",
       "      <td>0</td>\n",
       "      <td>0</td>\n",
       "      <td>0</td>\n",
       "      <td>0</td>\n",
       "    </tr>\n",
       "    <tr>\n",
       "      <th>777</th>\n",
       "      <td>60</td>\n",
       "      <td>71</td>\n",
       "      <td>92</td>\n",
       "      <td>62</td>\n",
       "      <td>77</td>\n",
       "      <td>83</td>\n",
       "      <td>63</td>\n",
       "      <td>83</td>\n",
       "      <td>98</td>\n",
       "      <td>69</td>\n",
       "      <td>74</td>\n",
       "    </tr>\n",
       "    <tr>\n",
       "      <th>427</th>\n",
       "      <td>78</td>\n",
       "      <td>92</td>\n",
       "      <td>92</td>\n",
       "      <td>86</td>\n",
       "      <td>90</td>\n",
       "      <td>76</td>\n",
       "      <td>85</td>\n",
       "      <td>85</td>\n",
       "      <td>92</td>\n",
       "      <td>96</td>\n",
       "      <td>0</td>\n",
       "    </tr>\n",
       "    <tr>\n",
       "      <th>199</th>\n",
       "      <td>80</td>\n",
       "      <td>60</td>\n",
       "      <td>92</td>\n",
       "      <td>76</td>\n",
       "      <td>77</td>\n",
       "      <td>87</td>\n",
       "      <td>76</td>\n",
       "      <td>95</td>\n",
       "      <td>87</td>\n",
       "      <td>69</td>\n",
       "      <td>82</td>\n",
       "    </tr>\n",
       "  </tbody>\n",
       "</table>\n",
       "</div>"
      ],
      "text/plain": [
       "     形式语言与编译  操作系统原理i  操作系统设计专题实验  数据库系统  编译器设计专题实验  计算机系统综合设计实验  计算机组成  \\\n",
       "974       66       79          92     68         85           88     79   \n",
       "620        0        0           0      0          0            0      0   \n",
       "777       60       71          92     62         77           83     63   \n",
       "427       78       92          92     86         90           76     85   \n",
       "199       80       60          92     76         77           87     76   \n",
       "\n",
       "     计算机组成与结构专题实验  计算机网络专题实验  计算机网络原理  软件定义网络  \n",
       "974            79         76       82      89  \n",
       "620             0          0        0       0  \n",
       "777            83         98       69      74  \n",
       "427            85         92       96       0  \n",
       "199            95         87       69      82  "
      ]
     },
     "execution_count": 9,
     "metadata": {},
     "output_type": "execute_result"
    }
   ],
   "source": [
    "X_train.head()"
   ]
  },
  {
   "cell_type": "code",
   "execution_count": 10,
   "metadata": {},
   "outputs": [],
   "source": [
    "import numpy as np\n",
    "# Calculate mae and rmse\n",
    "def evaluate_predictions(predictions, true):\n",
    "    mae = np.mean(abs(predictions - true))\n",
    "    rmse = np.sqrt(np.mean((predictions - true) ** 2))\n",
    "\n",
    "    return mae, rmse"
   ]
  },
  {
   "cell_type": "code",
   "execution_count": 11,
   "metadata": {},
   "outputs": [],
   "source": [
    "median_pred = X_train['形式语言与编译'].median()\n",
    "\n",
    "median_preds = [median_pred for _ in range(len(X_test))]\n",
    "\n",
    "true = X_test['形式语言与编译']"
   ]
  },
  {
   "cell_type": "code",
   "execution_count": 12,
   "metadata": {},
   "outputs": [
    {
     "name": "stdout",
     "output_type": "stream",
     "text": [
      "Median Baseline  MAE: 29.6994\n",
      "Median Baseline RMSE: 40.6660\n"
     ]
    }
   ],
   "source": [
    "# Display the naive baseline metrics\n",
    "mb_mae, mb_rmse = evaluate_predictions(median_preds, true)\n",
    "print('Median Baseline  MAE: {:.4f}'.format(mb_mae))\n",
    "print('Median Baseline RMSE: {:.4f}'.format(mb_rmse))"
   ]
  },
  {
   "cell_type": "code",
   "execution_count": 13,
   "metadata": {},
   "outputs": [
    {
     "name": "stdout",
     "output_type": "stream",
     "text": [
      "                             r2     rmsea\n",
      "Linear Regression      0.875004  0.678322\n",
      "ElasticNet Regression  0.875418  0.677199\n",
      "Random Forest          0.879414  0.666249\n",
      "Extra Trees            0.889213  0.638606\n",
      "SVM                    0.763064  0.933906\n",
      "Gradient Boosted       0.878137  0.669767\n"
     ]
    }
   ],
   "source": [
    "results2 = evaluate(X_train, X_test, y_train, y_test)\n",
    "print(results2)"
   ]
  },
  {
   "cell_type": "code",
   "execution_count": 16,
   "metadata": {},
   "outputs": [
    {
     "data": {
      "image/png": "[encoded data removed]",
      "text/plain": [
       "<Figure size 1000x600 with 1 Axes>"
      ]
     },
     "metadata": {},
     "output_type": "display_data"
    },
    {
     "data": {
      "text/plain": [
       "Text(0.5, 1.0, '形式语言与编译的课程成绩预测结果对比')"
      ]
     },
     "execution_count": 16,
     "metadata": {},
     "output_type": "execute_result"
    },
    {
     "data": {
      "image/png": "[encoded data removed]",
      "text/plain": [
       "<Figure size 640x480 with 1 Axes>"
      ]
     },
     "metadata": {},
     "output_type": "display_data"
    }
   ],
   "source": [
    "import matplotlib.pyplot as plt\n",
    "import numpy as np\n",
    "plt.rc(\"font\", family='Microsoft YaHei')\n",
    "plt.rcParams['axes.unicode_minus'] = False  # 用来正常显示负号\n",
    "# 模型名称和性能指标\n",
    "# performance_metrics = [\"mae\", \"rmse\", \"r2\", \"rmsea\"]\n",
    "model_name_list = ['线性回归', '弹性网络回归',\n",
    "                      '随机森林', '极度随机树', 'SVM',\n",
    "                       '梯度提升树']\n",
    "performance_metrics = [\"R²\", \"RMSEA\"]\n",
    "\n",
    "# 设置图形大小\n",
    "plt.figure(figsize=(10, 6))\n",
    "\n",
    "# 设置可视化参数\n",
    "bar_width = 0.2\n",
    "index = np.arange(len(model_name_list))\n",
    "\n",
    "# 绘制R²的柱状图\n",
    "plt.bar(index - bar_width*1.5, results[\"r2\"], bar_width, label='R²_Entire', color='lightcoral')\n",
    "plt.bar(index - bar_width*0.5, results2[\"r2\"], bar_width, label='R²_ParentsOnly', color='skyblue', alpha=0.7)\n",
    "\n",
    "# 绘制RMSEA的柱状图\n",
    "plt.bar(index + bar_width*0.5+0.05, results[\"rmsea\"], bar_width, label='RMSEA_Entire', color='lightgreen')\n",
    "plt.bar(index + 1.5 * bar_width+0.05, results2[\"rmsea\"], bar_width, label='RMSEA_ParentsOnly', color='orange', alpha=0.7)\n",
    "\n",
    "# 设置x轴标签\n",
    "plt.xlabel('模型')\n",
    "plt.xticks(index, model_name_list, rotation=45)\n",
    "\n",
    "# 设置y轴标签\n",
    "plt.ylabel('分数')\n",
    "\n",
    "# 设置图例\n",
    "plt.legend(loc='best')\n",
    "plt.title(f\"形式语言与编译的课程成绩预测结果对比\")\n",
    "plt.show()\n",
    "\n",
    "\n",
    "\n"
   ]
  }
 ],
 "metadata": {
  "kernelspec": {
   "display_name": "Python 3",
   "language": "python",
   "name": "python3"
  },
  "language_info": {
   "codemirror_mode": {
    "name": "ipython",
    "version": 3
   },
   "file_extension": ".py",
   "mimetype": "text/x-python",
   "name": "python",
   "nbconvert_exporter": "python",
   "pygments_lexer": "ipython3",
   "version": "3.8.0"
  }
 },
 "nbformat": 4,
 "nbformat_minor": 2
}
